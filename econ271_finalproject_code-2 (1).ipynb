{
 "cells": [
  {
   "cell_type": "code",
   "execution_count": 2,
   "source": [
    "#### FINAL PROJECT REPORT ####"
   ],
   "outputs": [],
   "metadata": {}
  },
  {
   "cell_type": "code",
   "execution_count": 3,
   "source": [
    "# First, before using data for regression analysis, let's clean the data!"
   ],
   "outputs": [],
   "metadata": {}
  },
  {
   "cell_type": "code",
   "execution_count": 69,
   "source": [
    "#IMPORT ALL TOOLS\r\n",
    "import pandas as pd\r\n",
    "import numpy as np\r\n",
    "import seaborn as sns\r\n",
    "import matplotlib.pyplot as plt\r\n",
    "%matplotlib inline\r\n",
    "# test 123\r\n",
    "#READ DATA\r\n",
    "listings = pd.read_csv('listings.csv') #load data\r\n",
    "print(listings.shape) #read shape of data\r\n",
    "print(listings.dtypes) #read datatype"
   ],
   "outputs": [
    {
     "output_type": "stream",
     "name": "stdout",
     "text": [
      "(2959, 16)\n",
      "id                                  int64\n",
      "name                               object\n",
      "host_id                             int64\n",
      "host_name                          object\n",
      "neighbourhood_group               float64\n",
      "neighbourhood                      object\n",
      "latitude                          float64\n",
      "longitude                         float64\n",
      "room_type                          object\n",
      "price                               int64\n",
      "minimum_nights                      int64\n",
      "number_of_reviews                   int64\n",
      "last_review                        object\n",
      "reviews_per_month                 float64\n",
      "calculated_host_listings_count      int64\n",
      "availability_365                    int64\n",
      "dtype: object\n"
     ]
    }
   ],
   "metadata": {}
  },
  {
   "cell_type": "code",
   "execution_count": 15,
   "source": [
    "listings_numeric = listings.select_dtypes(include='number') #creates a dataframe listings_numeric using select_dtypes()\r\n",
    "numeric_cols = listings_numeric.columns.values #just retrieve the names of the columns from listings_numeric\r\n",
    "print(numeric_cols)\r\n",
    "print(listings_numeric)"
   ],
   "outputs": [
    {
     "output_type": "stream",
     "name": "stdout",
     "text": [
      "['id' 'host_id' 'neighbourhood_group' 'latitude' 'longitude' 'price'\n",
      " 'minimum_nights' 'number_of_reviews' 'reviews_per_month'\n",
      " 'calculated_host_listings_count' 'availability_365']\n",
      "            id    host_id  neighbourhood_group   latitude  longitude  price  \\\n",
      "0         3781       4804                  NaN  42.364130 -71.029910    125   \n",
      "1         6695       8229                  NaN  42.329940 -71.093510    169   \n",
      "2        10813      38997                  NaN  42.350610 -71.087870     70   \n",
      "3        10986      38997                  NaN  42.363520 -71.050750     73   \n",
      "4        13247      51637                  NaN  42.351640 -71.087520     75   \n",
      "...        ...        ...                  ...        ...        ...    ...   \n",
      "2954  48211443  278520291                  NaN  42.265340 -71.096310     40   \n",
      "2955  48228283  316148588                  NaN  42.356210 -71.061890     74   \n",
      "2956  48228309  316148588                  NaN  42.354230 -71.061620     64   \n",
      "2957  48231177  316148588                  NaN  42.356100 -71.063020     77   \n",
      "2958  48231284  316148588                  NaN  42.354836 -71.061621    116   \n",
      "\n",
      "      minimum_nights  number_of_reviews  reviews_per_month  \\\n",
      "0                 29                 18               0.26   \n",
      "1                 29                115               0.82   \n",
      "2                 29                  5               0.09   \n",
      "3                 29                  2               0.03   \n",
      "4                 91                  0                NaN   \n",
      "...              ...                ...                ...   \n",
      "2954               1                  0                NaN   \n",
      "2955               2                  0                NaN   \n",
      "2956               2                  0                NaN   \n",
      "2957               2                  0                NaN   \n",
      "2958               2                  0                NaN   \n",
      "\n",
      "      calculated_host_listings_count  availability_365  \n",
      "0                                  1               224  \n",
      "1                                  4                 0  \n",
      "2                                 11               364  \n",
      "3                                 11               364  \n",
      "4                                  2                 0  \n",
      "...                              ...               ...  \n",
      "2954                               3               350  \n",
      "2955                               4               347  \n",
      "2956                               4               104  \n",
      "2957                               4                65  \n",
      "2958                               4                62  \n",
      "\n",
      "[2959 rows x 11 columns]\n"
     ]
    }
   ],
   "metadata": {}
  },
  {
   "cell_type": "code",
   "execution_count": 16,
   "source": [
    "#Creating HEATMAP to show the presence of the missing values\r\n",
    "sns.heatmap(listings.isnull(), cmap=sns.color_palette(palette='colorblind'), vmin=0, vmax=1) \r\n",
    "plt.show()"
   ],
   "outputs": [
    {
     "output_type": "display_data",
     "data": {
      "image/png": "[encoded data removed]",
      "text/plain": [
       "<Figure size 432x288 with 2 Axes>"
      ]
     },
     "metadata": {
      "needs_background": "light"
     }
    }
   ],
   "metadata": {}
  },
  {
   "cell_type": "code",
   "execution_count": 98,
   "source": [
    "#Now, since we see from the graph above showing that there are missing values in three columns, we need to handle these missing values!"
   ],
   "outputs": [],
   "metadata": {}
  },
  {
   "cell_type": "code",
   "execution_count": 17,
   "source": [
    "#First create missing indicator for columns with missing data\n",
    "for col in listings.columns:\n",
    "    missing_value = listings[col].isnull() #missing_value will create a series with all the columns with null values\n",
    "    num_missing = missing_value.sum() #this will sum up all the rows that have nulls   \n",
    "    #now we want to store the columns which have missing data\n",
    "    if num_missing > 0:  #this condition is still in the for loop.\n",
    "        print('created missing indicator for: {}'.format(col)) #prints all columns which have missing data\n",
    "        listings['{}_ismissing'.format(col)] = missing_value"
   ],
   "outputs": [
    {
     "output_type": "stream",
     "name": "stdout",
     "text": [
      "created missing indicator for: neighbourhood_group\n",
      "created missing indicator for: last_review\n",
      "created missing indicator for: reviews_per_month\n"
     ]
    }
   ],
   "metadata": {}
  },
  {
   "cell_type": "code",
   "execution_count": 18,
   "source": [
    "#The output above show the column names that have missing values: neighbourhood_group, last_review, and reviews_per_month\n",
    "#Here, we plot histogram for these missing values\n",
    "ismissing_cols = [col for col in listings.columns if 'ismissing' in col] #searching for ismissing in col using list comprehension \n",
    "listings['num_missing'] = listings[ismissing_cols].sum(axis=1) #create a new column 'num_missing' \n",
    "\n",
    "#Plot a distributional summary\n",
    "sns.displot(data=listings,x='num_missing',kde=True)\n",
    "plt.show()"
   ],
   "outputs": [
    {
     "output_type": "display_data",
     "data": {
      "image/png": "[encoded data removed]",
      "text/plain": [
       "<Figure size 360x360 with 1 Axes>"
      ]
     },
     "metadata": {
      "needs_background": "light"
     }
    }
   ],
   "metadata": {}
  },
  {
   "cell_type": "code",
   "execution_count": 19,
   "source": [
    "listings[col].dtype #check the contents of col. It is a boolean datatype and holds true/false values"
   ],
   "outputs": [
    {
     "output_type": "execute_result",
     "data": {
      "text/plain": [
       "dtype('int64')"
      ]
     },
     "metadata": {},
     "execution_count": 19
    }
   ],
   "metadata": {}
  },
  {
   "cell_type": "code",
   "execution_count": 20,
   "source": [
    "listings.columns.dtype"
   ],
   "outputs": [
    {
     "output_type": "execute_result",
     "data": {
      "text/plain": [
       "dtype('O')"
      ]
     },
     "metadata": {},
     "execution_count": 20
    }
   ],
   "metadata": {}
  },
  {
   "cell_type": "code",
   "execution_count": 21,
   "source": [
    "#We see the histogram of these missing value.\n",
    "#Calculate percent of missing data in the columns\n",
    "\n",
    "for col in listings.columns:\n",
    "    pct_missing = listings[col].isnull().mean() #calculating % of missing values. calling numpy (np)\n",
    "    print('{} - {}%'.format(col, round(pct_missing*100)))\n",
    "print(pct_missing)"
   ],
   "outputs": [
    {
     "output_type": "stream",
     "name": "stdout",
     "text": [
      "id - 0%\n",
      "name - 0%\n",
      "host_id - 0%\n",
      "host_name - 0%\n",
      "neighbourhood_group - 100%\n",
      "neighbourhood - 0%\n",
      "latitude - 0%\n",
      "longitude - 0%\n",
      "room_type - 0%\n",
      "price - 0%\n",
      "minimum_nights - 0%\n",
      "number_of_reviews - 0%\n",
      "last_review - 30%\n",
      "reviews_per_month - 30%\n",
      "calculated_host_listings_count - 0%\n",
      "availability_365 - 0%\n",
      "neighbourhood_group_ismissing - 0%\n",
      "last_review_ismissing - 0%\n",
      "reviews_per_month_ismissing - 0%\n",
      "num_missing - 0%\n",
      "0.0\n"
     ]
    }
   ],
   "metadata": {}
  },
  {
   "cell_type": "code",
   "execution_count": 15,
   "source": [
    "#Above we see the percentage of missing value of each column.\n",
    "#We are going to replace the missing values in last_review column with '_MISSING_' (categorical datatype)\n",
    "#We are going to replace missing values in reviews_per_month column with median (numerical datatype)\n",
    "#We are going to drop column neighbourhood_group because all values are missing"
   ],
   "outputs": [],
   "metadata": {}
  },
  {
   "cell_type": "code",
   "execution_count": 22,
   "source": [
    "#Replace the missing values in last_review column with '_MISSING_'\n",
    "listings['last_review'] = listings['last_review'].fillna('_MISSING_')"
   ],
   "outputs": [],
   "metadata": {}
  },
  {
   "cell_type": "code",
   "execution_count": 23,
   "source": [
    "#Replace the missing values with median\n",
    "med = listings['reviews_per_month'].median() #calculate the median\n",
    "print(med)\n",
    "listings['reviews_per_month'] = listings['reviews_per_month'].fillna(med) #create a new column with the calculated median"
   ],
   "outputs": [
    {
     "output_type": "stream",
     "name": "stdout",
     "text": [
      "0.78\n"
     ]
    }
   ],
   "metadata": {}
  },
  {
   "cell_type": "code",
   "execution_count": 24,
   "source": [
    "#Drop the missing column neighbourhood_group\n",
    "listings = listings.drop('neighbourhood_group',axis=1)"
   ],
   "outputs": [],
   "metadata": {}
  },
  {
   "cell_type": "code",
   "execution_count": 25,
   "source": [
    "#RECHECK the graphs for update of missing value handling\n",
    "sns.heatmap(listings.isnull(), cmap=sns.color_palette(palette='colorblind'), vmin=0, vmax=1) \n",
    "plt.show()"
   ],
   "outputs": [
    {
     "output_type": "display_data",
     "data": {
      "image/png": "[encoded data removed]",
      "text/plain": [
       "<Figure size 432x288 with 2 Axes>"
      ]
     },
     "metadata": {
      "needs_background": "light"
     }
    }
   ],
   "metadata": {}
  },
  {
   "cell_type": "code",
   "execution_count": 26,
   "source": [
    "listings.isnull() #To check if there is any null or missing value in the dataset"
   ],
   "outputs": [
    {
     "output_type": "execute_result",
     "data": {
      "text/html": [
       "<div>\n",
       "<style scoped>\n",
       "    .dataframe tbody tr th:only-of-type {\n",
       "        vertical-align: middle;\n",
       "    }\n",
       "\n",
       "    .dataframe tbody tr th {\n",
       "        vertical-align: top;\n",
       "    }\n",
       "\n",
       "    .dataframe thead th {\n",
       "        text-align: right;\n",
       "    }\n",
       "</style>\n",
       "<table border=\"1\" class=\"dataframe\">\n",
       "  <thead>\n",
       "    <tr style=\"text-align: right;\">\n",
       "      <th></th>\n",
       "      <th>id</th>\n",
       "      <th>name</th>\n",
       "      <th>host_id</th>\n",
       "      <th>host_name</th>\n",
       "      <th>neighbourhood</th>\n",
       "      <th>latitude</th>\n",
       "      <th>longitude</th>\n",
       "      <th>room_type</th>\n",
       "      <th>price</th>\n",
       "      <th>minimum_nights</th>\n",
       "      <th>number_of_reviews</th>\n",
       "      <th>last_review</th>\n",
       "      <th>reviews_per_month</th>\n",
       "      <th>calculated_host_listings_count</th>\n",
       "      <th>availability_365</th>\n",
       "      <th>neighbourhood_group_ismissing</th>\n",
       "      <th>last_review_ismissing</th>\n",
       "      <th>reviews_per_month_ismissing</th>\n",
       "      <th>num_missing</th>\n",
       "    </tr>\n",
       "  </thead>\n",
       "  <tbody>\n",
       "    <tr>\n",
       "      <th>0</th>\n",
       "      <td>False</td>\n",
       "      <td>False</td>\n",
       "      <td>False</td>\n",
       "      <td>False</td>\n",
       "      <td>False</td>\n",
       "      <td>False</td>\n",
       "      <td>False</td>\n",
       "      <td>False</td>\n",
       "      <td>False</td>\n",
       "      <td>False</td>\n",
       "      <td>False</td>\n",
       "      <td>False</td>\n",
       "      <td>False</td>\n",
       "      <td>False</td>\n",
       "      <td>False</td>\n",
       "      <td>False</td>\n",
       "      <td>False</td>\n",
       "      <td>False</td>\n",
       "      <td>False</td>\n",
       "    </tr>\n",
       "    <tr>\n",
       "      <th>1</th>\n",
       "      <td>False</td>\n",
       "      <td>False</td>\n",
       "      <td>False</td>\n",
       "      <td>False</td>\n",
       "      <td>False</td>\n",
       "      <td>False</td>\n",
       "      <td>False</td>\n",
       "      <td>False</td>\n",
       "      <td>False</td>\n",
       "      <td>False</td>\n",
       "      <td>False</td>\n",
       "      <td>False</td>\n",
       "      <td>False</td>\n",
       "      <td>False</td>\n",
       "      <td>False</td>\n",
       "      <td>False</td>\n",
       "      <td>False</td>\n",
       "      <td>False</td>\n",
       "      <td>False</td>\n",
       "    </tr>\n",
       "    <tr>\n",
       "      <th>2</th>\n",
       "      <td>False</td>\n",
       "      <td>False</td>\n",
       "      <td>False</td>\n",
       "      <td>False</td>\n",
       "      <td>False</td>\n",
       "      <td>False</td>\n",
       "      <td>False</td>\n",
       "      <td>False</td>\n",
       "      <td>False</td>\n",
       "      <td>False</td>\n",
       "      <td>False</td>\n",
       "      <td>False</td>\n",
       "      <td>False</td>\n",
       "      <td>False</td>\n",
       "      <td>False</td>\n",
       "      <td>False</td>\n",
       "      <td>False</td>\n",
       "      <td>False</td>\n",
       "      <td>False</td>\n",
       "    </tr>\n",
       "    <tr>\n",
       "      <th>3</th>\n",
       "      <td>False</td>\n",
       "      <td>False</td>\n",
       "      <td>False</td>\n",
       "      <td>False</td>\n",
       "      <td>False</td>\n",
       "      <td>False</td>\n",
       "      <td>False</td>\n",
       "      <td>False</td>\n",
       "      <td>False</td>\n",
       "      <td>False</td>\n",
       "      <td>False</td>\n",
       "      <td>False</td>\n",
       "      <td>False</td>\n",
       "      <td>False</td>\n",
       "      <td>False</td>\n",
       "      <td>False</td>\n",
       "      <td>False</td>\n",
       "      <td>False</td>\n",
       "      <td>False</td>\n",
       "    </tr>\n",
       "    <tr>\n",
       "      <th>4</th>\n",
       "      <td>False</td>\n",
       "      <td>False</td>\n",
       "      <td>False</td>\n",
       "      <td>False</td>\n",
       "      <td>False</td>\n",
       "      <td>False</td>\n",
       "      <td>False</td>\n",
       "      <td>False</td>\n",
       "      <td>False</td>\n",
       "      <td>False</td>\n",
       "      <td>False</td>\n",
       "      <td>False</td>\n",
       "      <td>False</td>\n",
       "      <td>False</td>\n",
       "      <td>False</td>\n",
       "      <td>False</td>\n",
       "      <td>False</td>\n",
       "      <td>False</td>\n",
       "      <td>False</td>\n",
       "    </tr>\n",
       "    <tr>\n",
       "      <th>...</th>\n",
       "      <td>...</td>\n",
       "      <td>...</td>\n",
       "      <td>...</td>\n",
       "      <td>...</td>\n",
       "      <td>...</td>\n",
       "      <td>...</td>\n",
       "      <td>...</td>\n",
       "      <td>...</td>\n",
       "      <td>...</td>\n",
       "      <td>...</td>\n",
       "      <td>...</td>\n",
       "      <td>...</td>\n",
       "      <td>...</td>\n",
       "      <td>...</td>\n",
       "      <td>...</td>\n",
       "      <td>...</td>\n",
       "      <td>...</td>\n",
       "      <td>...</td>\n",
       "      <td>...</td>\n",
       "    </tr>\n",
       "    <tr>\n",
       "      <th>2954</th>\n",
       "      <td>False</td>\n",
       "      <td>False</td>\n",
       "      <td>False</td>\n",
       "      <td>False</td>\n",
       "      <td>False</td>\n",
       "      <td>False</td>\n",
       "      <td>False</td>\n",
       "      <td>False</td>\n",
       "      <td>False</td>\n",
       "      <td>False</td>\n",
       "      <td>False</td>\n",
       "      <td>False</td>\n",
       "      <td>False</td>\n",
       "      <td>False</td>\n",
       "      <td>False</td>\n",
       "      <td>False</td>\n",
       "      <td>False</td>\n",
       "      <td>False</td>\n",
       "      <td>False</td>\n",
       "    </tr>\n",
       "    <tr>\n",
       "      <th>2955</th>\n",
       "      <td>False</td>\n",
       "      <td>False</td>\n",
       "      <td>False</td>\n",
       "      <td>False</td>\n",
       "      <td>False</td>\n",
       "      <td>False</td>\n",
       "      <td>False</td>\n",
       "      <td>False</td>\n",
       "      <td>False</td>\n",
       "      <td>False</td>\n",
       "      <td>False</td>\n",
       "      <td>False</td>\n",
       "      <td>False</td>\n",
       "      <td>False</td>\n",
       "      <td>False</td>\n",
       "      <td>False</td>\n",
       "      <td>False</td>\n",
       "      <td>False</td>\n",
       "      <td>False</td>\n",
       "    </tr>\n",
       "    <tr>\n",
       "      <th>2956</th>\n",
       "      <td>False</td>\n",
       "      <td>False</td>\n",
       "      <td>False</td>\n",
       "      <td>False</td>\n",
       "      <td>False</td>\n",
       "      <td>False</td>\n",
       "      <td>False</td>\n",
       "      <td>False</td>\n",
       "      <td>False</td>\n",
       "      <td>False</td>\n",
       "      <td>False</td>\n",
       "      <td>False</td>\n",
       "      <td>False</td>\n",
       "      <td>False</td>\n",
       "      <td>False</td>\n",
       "      <td>False</td>\n",
       "      <td>False</td>\n",
       "      <td>False</td>\n",
       "      <td>False</td>\n",
       "    </tr>\n",
       "    <tr>\n",
       "      <th>2957</th>\n",
       "      <td>False</td>\n",
       "      <td>False</td>\n",
       "      <td>False</td>\n",
       "      <td>False</td>\n",
       "      <td>False</td>\n",
       "      <td>False</td>\n",
       "      <td>False</td>\n",
       "      <td>False</td>\n",
       "      <td>False</td>\n",
       "      <td>False</td>\n",
       "      <td>False</td>\n",
       "      <td>False</td>\n",
       "      <td>False</td>\n",
       "      <td>False</td>\n",
       "      <td>False</td>\n",
       "      <td>False</td>\n",
       "      <td>False</td>\n",
       "      <td>False</td>\n",
       "      <td>False</td>\n",
       "    </tr>\n",
       "    <tr>\n",
       "      <th>2958</th>\n",
       "      <td>False</td>\n",
       "      <td>False</td>\n",
       "      <td>False</td>\n",
       "      <td>False</td>\n",
       "      <td>False</td>\n",
       "      <td>False</td>\n",
       "      <td>False</td>\n",
       "      <td>False</td>\n",
       "      <td>False</td>\n",
       "      <td>False</td>\n",
       "      <td>False</td>\n",
       "      <td>False</td>\n",
       "      <td>False</td>\n",
       "      <td>False</td>\n",
       "      <td>False</td>\n",
       "      <td>False</td>\n",
       "      <td>False</td>\n",
       "      <td>False</td>\n",
       "      <td>False</td>\n",
       "    </tr>\n",
       "  </tbody>\n",
       "</table>\n",
       "<p>2959 rows × 19 columns</p>\n",
       "</div>"
      ],
      "text/plain": [
       "         id   name  host_id  host_name  neighbourhood  latitude  longitude  \\\n",
       "0     False  False    False      False          False     False      False   \n",
       "1     False  False    False      False          False     False      False   \n",
       "2     False  False    False      False          False     False      False   \n",
       "3     False  False    False      False          False     False      False   \n",
       "4     False  False    False      False          False     False      False   \n",
       "...     ...    ...      ...        ...            ...       ...        ...   \n",
       "2954  False  False    False      False          False     False      False   \n",
       "2955  False  False    False      False          False     False      False   \n",
       "2956  False  False    False      False          False     False      False   \n",
       "2957  False  False    False      False          False     False      False   \n",
       "2958  False  False    False      False          False     False      False   \n",
       "\n",
       "      room_type  price  minimum_nights  number_of_reviews  last_review  \\\n",
       "0         False  False           False              False        False   \n",
       "1         False  False           False              False        False   \n",
       "2         False  False           False              False        False   \n",
       "3         False  False           False              False        False   \n",
       "4         False  False           False              False        False   \n",
       "...         ...    ...             ...                ...          ...   \n",
       "2954      False  False           False              False        False   \n",
       "2955      False  False           False              False        False   \n",
       "2956      False  False           False              False        False   \n",
       "2957      False  False           False              False        False   \n",
       "2958      False  False           False              False        False   \n",
       "\n",
       "      reviews_per_month  calculated_host_listings_count  availability_365  \\\n",
       "0                 False                           False             False   \n",
       "1                 False                           False             False   \n",
       "2                 False                           False             False   \n",
       "3                 False                           False             False   \n",
       "4                 False                           False             False   \n",
       "...                 ...                             ...               ...   \n",
       "2954              False                           False             False   \n",
       "2955              False                           False             False   \n",
       "2956              False                           False             False   \n",
       "2957              False                           False             False   \n",
       "2958              False                           False             False   \n",
       "\n",
       "      neighbourhood_group_ismissing  last_review_ismissing  \\\n",
       "0                             False                  False   \n",
       "1                             False                  False   \n",
       "2                             False                  False   \n",
       "3                             False                  False   \n",
       "4                             False                  False   \n",
       "...                             ...                    ...   \n",
       "2954                          False                  False   \n",
       "2955                          False                  False   \n",
       "2956                          False                  False   \n",
       "2957                          False                  False   \n",
       "2958                          False                  False   \n",
       "\n",
       "      reviews_per_month_ismissing  num_missing  \n",
       "0                           False        False  \n",
       "1                           False        False  \n",
       "2                           False        False  \n",
       "3                           False        False  \n",
       "4                           False        False  \n",
       "...                           ...          ...  \n",
       "2954                        False        False  \n",
       "2955                        False        False  \n",
       "2956                        False        False  \n",
       "2957                        False        False  \n",
       "2958                        False        False  \n",
       "\n",
       "[2959 rows x 19 columns]"
      ]
     },
     "metadata": {},
     "execution_count": 26
    }
   ],
   "metadata": {}
  },
  {
   "cell_type": "code",
   "execution_count": 27,
   "source": [
    "#Since price cannot be 0, we drop rows where price equal 0\n",
    "listings.drop(listings.index[listings[\"price\"]==0], axis=0, inplace=True)"
   ],
   "outputs": [],
   "metadata": {}
  },
  {
   "cell_type": "code",
   "execution_count": 28,
   "source": [
    "#Now it is time to detect OUTLIERS!\n",
    "#Find outliers in our outcome variable using histogram\n",
    "listings.price.hist(bins=100)\n",
    "plt.show()\n",
    "listings['price'].describe() #descriptive statistics"
   ],
   "outputs": [
    {
     "output_type": "display_data",
     "data": {
      "image/png": "[encoded data removed]",
      "text/plain": [
       "<Figure size 432x288 with 1 Axes>"
      ]
     },
     "metadata": {
      "needs_background": "light"
     }
    },
    {
     "output_type": "execute_result",
     "data": {
      "text/plain": [
       "count     2955.000000\n",
       "mean       148.797293\n",
       "std        295.411137\n",
       "min         19.000000\n",
       "25%         70.000000\n",
       "50%        110.000000\n",
       "75%        174.000000\n",
       "max      10000.000000\n",
       "Name: price, dtype: float64"
      ]
     },
     "metadata": {},
     "execution_count": 28
    }
   ],
   "metadata": {}
  },
  {
   "cell_type": "code",
   "execution_count": 125,
   "source": [
    "#Drop values that are outliers\n",
    "listings.drop(listings.index[listings[\"price\"]==10000], axis=0, inplace=True)"
   ],
   "outputs": [],
   "metadata": {}
  },
  {
   "cell_type": "code",
   "execution_count": 36,
   "source": [
    "#Using box plot to show outliers in variable price\n",
    "sns.boxplot(data=listings,x='price')\n",
    "plt.show()"
   ],
   "outputs": [
    {
     "output_type": "display_data",
     "data": {
      "image/png": "[encoded data removed]",
      "text/plain": [
       "<Figure size 432x288 with 1 Axes>"
      ]
     },
     "metadata": {
      "needs_background": "light"
     }
    }
   ],
   "metadata": {}
  },
  {
   "cell_type": "code",
   "execution_count": 37,
   "source": [
    "#Delete the largest outlier in the price to make a better look at the boxplot of price\n",
    "listings.drop(listings.index[listings[\"price\"]>1000], axis=0, inplace=True)"
   ],
   "outputs": [],
   "metadata": {}
  },
  {
   "cell_type": "code",
   "execution_count": 38,
   "source": [
    "#Showing boxplot aga\n",
    "sns.boxplot(data=listings,x='price')\n",
    "plt.show()"
   ],
   "outputs": [
    {
     "output_type": "display_data",
     "data": {
      "image/png": "[encoded data removed]",
      "text/plain": [
       "<Figure size 432x288 with 1 Axes>"
      ]
     },
     "metadata": {
      "needs_background": "light"
     }
    }
   ],
   "metadata": {}
  },
  {
   "cell_type": "code",
   "execution_count": 39,
   "source": [
    "listings['neighbourhood'].unique()"
   ],
   "outputs": [
    {
     "output_type": "execute_result",
     "data": {
      "text/plain": [
       "array(['East Boston', 'Roxbury', 'Back Bay', 'North End', 'Beacon Hill',\n",
       "       'Dorchester', 'South End', 'Jamaica Plain', 'Charlestown',\n",
       "       'South Boston', 'Bay Village', 'Brighton', 'West Roxbury',\n",
       "       'Roslindale', 'Downtown', 'Mission Hill', 'West End',\n",
       "       'South Boston Waterfront', 'Fenway', 'Allston', 'Hyde Park',\n",
       "       'Chinatown', 'Mattapan', 'Longwood Medical Area',\n",
       "       'Leather District'], dtype=object)"
      ]
     },
     "metadata": {},
     "execution_count": 39
    }
   ],
   "metadata": {}
  },
  {
   "cell_type": "code",
   "execution_count": 40,
   "source": [
    "#Using a bar chart to see the distribution of a categorical variable neighbourhood\n",
    "listings['neighbourhood'].value_counts().plot.bar()\n",
    "plt.show()"
   ],
   "outputs": [
    {
     "output_type": "display_data",
     "data": {
      "image/png": "[encoded data removed]",
      "text/plain": [
       "<Figure size 432x288 with 1 Axes>"
      ]
     },
     "metadata": {
      "needs_background": "light"
     }
    }
   ],
   "metadata": {}
  },
  {
   "cell_type": "code",
   "execution_count": 41,
   "source": [
    "#Find outliers in our explanatory variable\n",
    "listings.minimum_nights.hist(bins=100)\n",
    "plt.show()\n",
    "#Use descriptive statistics\n",
    "listings['minimum_nights'].describe()"
   ],
   "outputs": [
    {
     "output_type": "display_data",
     "data": {
      "image/png": "[encoded data removed]",
      "text/plain": [
       "<Figure size 432x288 with 1 Axes>"
      ]
     },
     "metadata": {
      "needs_background": "light"
     }
    },
    {
     "output_type": "execute_result",
     "data": {
      "text/plain": [
       "count    2947.000000\n",
       "mean       42.567696\n",
       "std        44.599954\n",
       "min         1.000000\n",
       "25%         2.000000\n",
       "50%        29.000000\n",
       "75%        91.000000\n",
       "max      1000.000000\n",
       "Name: minimum_nights, dtype: float64"
      ]
     },
     "metadata": {},
     "execution_count": 41
    }
   ],
   "metadata": {}
  },
  {
   "cell_type": "code",
   "execution_count": 42,
   "source": [
    "#Using box plot to show outliers in variable minimum_nights\n",
    "sns.boxplot(data=listings,x='minimum_nights')\n",
    "plt.show()"
   ],
   "outputs": [
    {
     "output_type": "display_data",
     "data": {
      "image/png": "[encoded data removed]",
      "text/plain": [
       "<Figure size 432x288 with 1 Axes>"
      ]
     },
     "metadata": {
      "needs_background": "light"
     }
    }
   ],
   "metadata": {}
  },
  {
   "cell_type": "code",
   "execution_count": 43,
   "source": [
    "#Find outliers in our outcome variable\n",
    "listings.availability_365.hist(bins=100)\n",
    "plt.show()\n",
    "listings['availability_365'].describe() #descriptive statistics"
   ],
   "outputs": [
    {
     "output_type": "display_data",
     "data": {
      "image/png": "[encoded data removed]",
      "text/plain": [
       "<Figure size 432x288 with 1 Axes>"
      ]
     },
     "metadata": {
      "needs_background": "light"
     }
    },
    {
     "output_type": "execute_result",
     "data": {
      "text/plain": [
       "count    2947.000000\n",
       "mean      183.953173\n",
       "std       140.910119\n",
       "min         0.000000\n",
       "25%        42.500000\n",
       "50%       179.000000\n",
       "75%       334.000000\n",
       "max       365.000000\n",
       "Name: availability_365, dtype: float64"
      ]
     },
     "metadata": {},
     "execution_count": 43
    }
   ],
   "metadata": {}
  },
  {
   "cell_type": "code",
   "execution_count": 44,
   "source": [
    "#Using box plot to show outliers in availability_365\n",
    "sns.boxplot(data=listings,x='availability_365')\n",
    "plt.show()"
   ],
   "outputs": [
    {
     "output_type": "display_data",
     "data": {
      "image/png": "[encoded data removed]",
      "text/plain": [
       "<Figure size 432x288 with 1 Axes>"
      ]
     },
     "metadata": {
      "needs_background": "light"
     }
    }
   ],
   "metadata": {}
  },
  {
   "cell_type": "code",
   "execution_count": 45,
   "source": [
    "listings['room_type'].unique()"
   ],
   "outputs": [
    {
     "output_type": "execute_result",
     "data": {
      "text/plain": [
       "array(['Entire home/apt', 'Private room', 'Shared room', 'Hotel room'],\n",
       "      dtype=object)"
      ]
     },
     "metadata": {},
     "execution_count": 45
    }
   ],
   "metadata": {}
  },
  {
   "cell_type": "code",
   "execution_count": 46,
   "source": [
    "#Using a bar chart to see the distribution of a categorical variable neighbourhood\n",
    "listings['room_type'].value_counts().plot.bar()\n",
    "plt.show()"
   ],
   "outputs": [
    {
     "output_type": "display_data",
     "data": {
      "image/png": "[encoded data removed]",
      "text/plain": [
       "<Figure size 432x288 with 1 Axes>"
      ]
     },
     "metadata": {
      "needs_background": "light"
     }
    }
   ],
   "metadata": {}
  },
  {
   "cell_type": "code",
   "execution_count": 130,
   "source": [
    "# REGRESSION #"
   ],
   "outputs": [],
   "metadata": {}
  },
  {
   "cell_type": "code",
   "execution_count": 47,
   "source": [
    "#IMPORT TOOLS\n",
    "import patsy                           # provides a syntax for specifying models  \n",
    "import statsmodels.api as sm           # provides statistical models like ols, gmm, anova, etc...\n",
    "import statsmodels.formula.api as smf  # provides a way to directly spec models from formulas"
   ],
   "outputs": [],
   "metadata": {}
  },
  {
   "cell_type": "code",
   "execution_count": 132,
   "source": [
    "listings"
   ],
   "outputs": [
    {
     "output_type": "execute_result",
     "data": {
      "text/html": [
       "<div>\n",
       "<style scoped>\n",
       "    .dataframe tbody tr th:only-of-type {\n",
       "        vertical-align: middle;\n",
       "    }\n",
       "\n",
       "    .dataframe tbody tr th {\n",
       "        vertical-align: top;\n",
       "    }\n",
       "\n",
       "    .dataframe thead th {\n",
       "        text-align: right;\n",
       "    }\n",
       "</style>\n",
       "<table border=\"1\" class=\"dataframe\">\n",
       "  <thead>\n",
       "    <tr style=\"text-align: right;\">\n",
       "      <th></th>\n",
       "      <th>id</th>\n",
       "      <th>name</th>\n",
       "      <th>host_id</th>\n",
       "      <th>host_name</th>\n",
       "      <th>neighbourhood</th>\n",
       "      <th>latitude</th>\n",
       "      <th>longitude</th>\n",
       "      <th>room_type</th>\n",
       "      <th>price</th>\n",
       "      <th>minimum_nights</th>\n",
       "      <th>number_of_reviews</th>\n",
       "      <th>last_review</th>\n",
       "      <th>reviews_per_month</th>\n",
       "      <th>calculated_host_listings_count</th>\n",
       "      <th>availability_365</th>\n",
       "      <th>neighbourhood_group_ismissing</th>\n",
       "      <th>last_review_ismissing</th>\n",
       "      <th>reviews_per_month_ismissing</th>\n",
       "      <th>num_missing</th>\n",
       "    </tr>\n",
       "  </thead>\n",
       "  <tbody>\n",
       "    <tr>\n",
       "      <th>0</th>\n",
       "      <td>3781</td>\n",
       "      <td>HARBORSIDE-Walk to subway</td>\n",
       "      <td>4804</td>\n",
       "      <td>Frank</td>\n",
       "      <td>East Boston</td>\n",
       "      <td>42.364130</td>\n",
       "      <td>-71.029910</td>\n",
       "      <td>Entire home/apt</td>\n",
       "      <td>125</td>\n",
       "      <td>29</td>\n",
       "      <td>18</td>\n",
       "      <td>12/20/2020</td>\n",
       "      <td>0.26</td>\n",
       "      <td>1</td>\n",
       "      <td>224</td>\n",
       "      <td>True</td>\n",
       "      <td>False</td>\n",
       "      <td>False</td>\n",
       "      <td>1</td>\n",
       "    </tr>\n",
       "    <tr>\n",
       "      <th>1</th>\n",
       "      <td>6695</td>\n",
       "      <td>$99 Special!! Home Away! Condo</td>\n",
       "      <td>8229</td>\n",
       "      <td>Terry</td>\n",
       "      <td>Roxbury</td>\n",
       "      <td>42.329940</td>\n",
       "      <td>-71.093510</td>\n",
       "      <td>Entire home/apt</td>\n",
       "      <td>169</td>\n",
       "      <td>29</td>\n",
       "      <td>115</td>\n",
       "      <td>11/2/2019</td>\n",
       "      <td>0.82</td>\n",
       "      <td>4</td>\n",
       "      <td>0</td>\n",
       "      <td>True</td>\n",
       "      <td>False</td>\n",
       "      <td>False</td>\n",
       "      <td>1</td>\n",
       "    </tr>\n",
       "    <tr>\n",
       "      <th>2</th>\n",
       "      <td>10813</td>\n",
       "      <td>Back Bay Apt-blocks to subway, Newbury St, The...</td>\n",
       "      <td>38997</td>\n",
       "      <td>Michelle</td>\n",
       "      <td>Back Bay</td>\n",
       "      <td>42.350610</td>\n",
       "      <td>-71.087870</td>\n",
       "      <td>Entire home/apt</td>\n",
       "      <td>70</td>\n",
       "      <td>29</td>\n",
       "      <td>5</td>\n",
       "      <td>12/2/2020</td>\n",
       "      <td>0.09</td>\n",
       "      <td>11</td>\n",
       "      <td>364</td>\n",
       "      <td>True</td>\n",
       "      <td>False</td>\n",
       "      <td>False</td>\n",
       "      <td>1</td>\n",
       "    </tr>\n",
       "    <tr>\n",
       "      <th>3</th>\n",
       "      <td>10986</td>\n",
       "      <td>North End (Waterfront area)  CLOSE TO MGH &amp; SU...</td>\n",
       "      <td>38997</td>\n",
       "      <td>Michelle</td>\n",
       "      <td>North End</td>\n",
       "      <td>42.363520</td>\n",
       "      <td>-71.050750</td>\n",
       "      <td>Entire home/apt</td>\n",
       "      <td>73</td>\n",
       "      <td>29</td>\n",
       "      <td>2</td>\n",
       "      <td>5/23/2016</td>\n",
       "      <td>0.03</td>\n",
       "      <td>11</td>\n",
       "      <td>364</td>\n",
       "      <td>True</td>\n",
       "      <td>False</td>\n",
       "      <td>False</td>\n",
       "      <td>1</td>\n",
       "    </tr>\n",
       "    <tr>\n",
       "      <th>4</th>\n",
       "      <td>13247</td>\n",
       "      <td>Back Bay studio apartment</td>\n",
       "      <td>51637</td>\n",
       "      <td>Susan</td>\n",
       "      <td>Back Bay</td>\n",
       "      <td>42.351640</td>\n",
       "      <td>-71.087520</td>\n",
       "      <td>Entire home/apt</td>\n",
       "      <td>75</td>\n",
       "      <td>91</td>\n",
       "      <td>0</td>\n",
       "      <td>_MISSING_</td>\n",
       "      <td>0.78</td>\n",
       "      <td>2</td>\n",
       "      <td>0</td>\n",
       "      <td>True</td>\n",
       "      <td>True</td>\n",
       "      <td>True</td>\n",
       "      <td>3</td>\n",
       "    </tr>\n",
       "    <tr>\n",
       "      <th>...</th>\n",
       "      <td>...</td>\n",
       "      <td>...</td>\n",
       "      <td>...</td>\n",
       "      <td>...</td>\n",
       "      <td>...</td>\n",
       "      <td>...</td>\n",
       "      <td>...</td>\n",
       "      <td>...</td>\n",
       "      <td>...</td>\n",
       "      <td>...</td>\n",
       "      <td>...</td>\n",
       "      <td>...</td>\n",
       "      <td>...</td>\n",
       "      <td>...</td>\n",
       "      <td>...</td>\n",
       "      <td>...</td>\n",
       "      <td>...</td>\n",
       "      <td>...</td>\n",
       "      <td>...</td>\n",
       "    </tr>\n",
       "    <tr>\n",
       "      <th>2954</th>\n",
       "      <td>48211443</td>\n",
       "      <td>Cozy, Private Rm w/ 40\"Tv, Mini Frig, Queen Bed</td>\n",
       "      <td>278520291</td>\n",
       "      <td>Glen</td>\n",
       "      <td>Mattapan</td>\n",
       "      <td>42.265340</td>\n",
       "      <td>-71.096310</td>\n",
       "      <td>Private room</td>\n",
       "      <td>40</td>\n",
       "      <td>1</td>\n",
       "      <td>0</td>\n",
       "      <td>_MISSING_</td>\n",
       "      <td>0.78</td>\n",
       "      <td>3</td>\n",
       "      <td>350</td>\n",
       "      <td>True</td>\n",
       "      <td>True</td>\n",
       "      <td>True</td>\n",
       "      <td>3</td>\n",
       "    </tr>\n",
       "    <tr>\n",
       "      <th>2955</th>\n",
       "      <td>48228283</td>\n",
       "      <td>Last Minute Specials! Downtown Boston Studio, ...</td>\n",
       "      <td>316148588</td>\n",
       "      <td>TemplePlace</td>\n",
       "      <td>Downtown</td>\n",
       "      <td>42.356210</td>\n",
       "      <td>-71.061890</td>\n",
       "      <td>Entire home/apt</td>\n",
       "      <td>74</td>\n",
       "      <td>2</td>\n",
       "      <td>0</td>\n",
       "      <td>_MISSING_</td>\n",
       "      <td>0.78</td>\n",
       "      <td>4</td>\n",
       "      <td>347</td>\n",
       "      <td>True</td>\n",
       "      <td>True</td>\n",
       "      <td>True</td>\n",
       "      <td>3</td>\n",
       "    </tr>\n",
       "    <tr>\n",
       "      <th>2956</th>\n",
       "      <td>48228309</td>\n",
       "      <td>204 Boston Studio, Ready For Long &amp; Short Stays</td>\n",
       "      <td>316148588</td>\n",
       "      <td>TemplePlace</td>\n",
       "      <td>Downtown</td>\n",
       "      <td>42.354230</td>\n",
       "      <td>-71.061620</td>\n",
       "      <td>Private room</td>\n",
       "      <td>64</td>\n",
       "      <td>2</td>\n",
       "      <td>0</td>\n",
       "      <td>_MISSING_</td>\n",
       "      <td>0.78</td>\n",
       "      <td>4</td>\n",
       "      <td>104</td>\n",
       "      <td>True</td>\n",
       "      <td>True</td>\n",
       "      <td>True</td>\n",
       "      <td>3</td>\n",
       "    </tr>\n",
       "    <tr>\n",
       "      <th>2957</th>\n",
       "      <td>48231177</td>\n",
       "      <td>508 Stylish Studio in Downtown Boston!</td>\n",
       "      <td>316148588</td>\n",
       "      <td>TemplePlace</td>\n",
       "      <td>Beacon Hill</td>\n",
       "      <td>42.356100</td>\n",
       "      <td>-71.063020</td>\n",
       "      <td>Entire home/apt</td>\n",
       "      <td>77</td>\n",
       "      <td>2</td>\n",
       "      <td>0</td>\n",
       "      <td>_MISSING_</td>\n",
       "      <td>0.78</td>\n",
       "      <td>4</td>\n",
       "      <td>65</td>\n",
       "      <td>True</td>\n",
       "      <td>True</td>\n",
       "      <td>True</td>\n",
       "      <td>3</td>\n",
       "    </tr>\n",
       "    <tr>\n",
       "      <th>2958</th>\n",
       "      <td>48231284</td>\n",
       "      <td>507 Stylish Studio in the Heart of Boston!</td>\n",
       "      <td>316148588</td>\n",
       "      <td>TemplePlace</td>\n",
       "      <td>Downtown</td>\n",
       "      <td>42.354836</td>\n",
       "      <td>-71.061621</td>\n",
       "      <td>Entire home/apt</td>\n",
       "      <td>116</td>\n",
       "      <td>2</td>\n",
       "      <td>0</td>\n",
       "      <td>_MISSING_</td>\n",
       "      <td>0.78</td>\n",
       "      <td>4</td>\n",
       "      <td>62</td>\n",
       "      <td>True</td>\n",
       "      <td>True</td>\n",
       "      <td>True</td>\n",
       "      <td>3</td>\n",
       "    </tr>\n",
       "  </tbody>\n",
       "</table>\n",
       "<p>2955 rows × 19 columns</p>\n",
       "</div>"
      ],
      "text/plain": [
       "            id                                               name    host_id  \\\n",
       "0         3781                          HARBORSIDE-Walk to subway       4804   \n",
       "1         6695                     $99 Special!! Home Away! Condo       8229   \n",
       "2        10813  Back Bay Apt-blocks to subway, Newbury St, The...      38997   \n",
       "3        10986  North End (Waterfront area)  CLOSE TO MGH & SU...      38997   \n",
       "4        13247                          Back Bay studio apartment      51637   \n",
       "...        ...                                                ...        ...   \n",
       "2954  48211443    Cozy, Private Rm w/ 40\"Tv, Mini Frig, Queen Bed  278520291   \n",
       "2955  48228283  Last Minute Specials! Downtown Boston Studio, ...  316148588   \n",
       "2956  48228309    204 Boston Studio, Ready For Long & Short Stays  316148588   \n",
       "2957  48231177             508 Stylish Studio in Downtown Boston!  316148588   \n",
       "2958  48231284         507 Stylish Studio in the Heart of Boston!  316148588   \n",
       "\n",
       "        host_name neighbourhood   latitude  longitude        room_type  price  \\\n",
       "0           Frank   East Boston  42.364130 -71.029910  Entire home/apt    125   \n",
       "1           Terry       Roxbury  42.329940 -71.093510  Entire home/apt    169   \n",
       "2        Michelle      Back Bay  42.350610 -71.087870  Entire home/apt     70   \n",
       "3        Michelle     North End  42.363520 -71.050750  Entire home/apt     73   \n",
       "4           Susan      Back Bay  42.351640 -71.087520  Entire home/apt     75   \n",
       "...           ...           ...        ...        ...              ...    ...   \n",
       "2954         Glen      Mattapan  42.265340 -71.096310     Private room     40   \n",
       "2955  TemplePlace      Downtown  42.356210 -71.061890  Entire home/apt     74   \n",
       "2956  TemplePlace      Downtown  42.354230 -71.061620     Private room     64   \n",
       "2957  TemplePlace   Beacon Hill  42.356100 -71.063020  Entire home/apt     77   \n",
       "2958  TemplePlace      Downtown  42.354836 -71.061621  Entire home/apt    116   \n",
       "\n",
       "      minimum_nights  number_of_reviews last_review  reviews_per_month  \\\n",
       "0                 29                 18  12/20/2020               0.26   \n",
       "1                 29                115   11/2/2019               0.82   \n",
       "2                 29                  5   12/2/2020               0.09   \n",
       "3                 29                  2   5/23/2016               0.03   \n",
       "4                 91                  0   _MISSING_               0.78   \n",
       "...              ...                ...         ...                ...   \n",
       "2954               1                  0   _MISSING_               0.78   \n",
       "2955               2                  0   _MISSING_               0.78   \n",
       "2956               2                  0   _MISSING_               0.78   \n",
       "2957               2                  0   _MISSING_               0.78   \n",
       "2958               2                  0   _MISSING_               0.78   \n",
       "\n",
       "      calculated_host_listings_count  availability_365  \\\n",
       "0                                  1               224   \n",
       "1                                  4                 0   \n",
       "2                                 11               364   \n",
       "3                                 11               364   \n",
       "4                                  2                 0   \n",
       "...                              ...               ...   \n",
       "2954                               3               350   \n",
       "2955                               4               347   \n",
       "2956                               4               104   \n",
       "2957                               4                65   \n",
       "2958                               4                62   \n",
       "\n",
       "      neighbourhood_group_ismissing  last_review_ismissing  \\\n",
       "0                              True                  False   \n",
       "1                              True                  False   \n",
       "2                              True                  False   \n",
       "3                              True                  False   \n",
       "4                              True                   True   \n",
       "...                             ...                    ...   \n",
       "2954                           True                   True   \n",
       "2955                           True                   True   \n",
       "2956                           True                   True   \n",
       "2957                           True                   True   \n",
       "2958                           True                   True   \n",
       "\n",
       "      reviews_per_month_ismissing  num_missing  \n",
       "0                           False            1  \n",
       "1                           False            1  \n",
       "2                           False            1  \n",
       "3                           False            1  \n",
       "4                            True            3  \n",
       "...                           ...          ...  \n",
       "2954                         True            3  \n",
       "2955                         True            3  \n",
       "2956                         True            3  \n",
       "2957                         True            3  \n",
       "2958                         True            3  \n",
       "\n",
       "[2955 rows x 19 columns]"
      ]
     },
     "metadata": {},
     "execution_count": 132
    }
   ],
   "metadata": {}
  },
  {
   "cell_type": "code",
   "execution_count": 48,
   "source": [
    "# FIRST MODEL - price ~ neighbourhood\n",
    "result1 = smf.ols('price ~ neighbourhood', data=listings).fit()"
   ],
   "outputs": [],
   "metadata": {}
  },
  {
   "cell_type": "code",
   "execution_count": 49,
   "source": [
    "#Inspect result1\n",
    "print(result1.summary())"
   ],
   "outputs": [
    {
     "output_type": "stream",
     "name": "stdout",
     "text": [
      "                            OLS Regression Results                            \n",
      "==============================================================================\n",
      "Dep. Variable:                  price   R-squared:                       0.092\n",
      "Model:                            OLS   Adj. R-squared:                  0.084\n",
      "Method:                 Least Squares   F-statistic:                     12.26\n",
      "Date:                Sun, 04 Apr 2021   Prob (F-statistic):           8.83e-46\n",
      "Time:                        16:51:53   Log-Likelihood:                -17945.\n",
      "No. Observations:                2947   AIC:                         3.594e+04\n",
      "Df Residuals:                    2922   BIC:                         3.609e+04\n",
      "Df Model:                          24                                         \n",
      "Covariance Type:            nonrobust                                         \n",
      "============================================================================================================\n",
      "                                               coef    std err          t      P>|t|      [0.025      0.975]\n",
      "------------------------------------------------------------------------------------------------------------\n",
      "Intercept                                  107.3467      8.751     12.267      0.000      90.188     124.505\n",
      "neighbourhood[T.Back Bay]                   62.4114     11.761      5.306      0.000      39.350      85.473\n",
      "neighbourhood[T.Bay Village]                 6.7231     18.539      0.363      0.717     -29.628      43.074\n",
      "neighbourhood[T.Beacon Hill]                33.3022     12.816      2.598      0.009       8.172      58.432\n",
      "neighbourhood[T.Brighton]                    0.2152     11.457      0.019      0.985     -22.250      22.681\n",
      "neighbourhood[T.Charlestown]                97.5333     15.157      6.435      0.000      67.814     127.252\n",
      "neighbourhood[T.Chinatown]                  37.3607     18.887      1.978      0.048       0.327      74.394\n",
      "neighbourhood[T.Dorchester]                 -4.9227     10.354     -0.475      0.635     -25.225      15.379\n",
      "neighbourhood[T.Downtown]                   68.8674     10.723      6.422      0.000      47.841      89.894\n",
      "neighbourhood[T.East Boston]                23.2783     11.910      1.955      0.051      -0.074      46.630\n",
      "neighbourhood[T.Fenway]                     69.4197     13.562      5.119      0.000      42.828      96.011\n",
      "neighbourhood[T.Hyde Park]                 -33.6710     19.673     -1.712      0.087     -72.245       4.903\n",
      "neighbourhood[T.Jamaica Plain]              30.4002     11.146      2.727      0.006       8.545      52.255\n",
      "neighbourhood[T.Leather District]           56.3200     62.493      0.901      0.368     -66.214     178.854\n",
      "neighbourhood[T.Longwood Medical Area]      39.6533     48.722      0.814      0.416     -55.880     135.186\n",
      "neighbourhood[T.Mattapan]                  -36.5820     20.357     -1.797      0.072     -76.498       3.334\n",
      "neighbourhood[T.Mission Hill]               48.2620     18.063      2.672      0.008      12.844      83.680\n",
      "neighbourhood[T.North End]                  22.4815     16.002      1.405      0.160      -8.894      53.857\n",
      "neighbourhood[T.Roslindale]                -20.8565     17.372     -1.201      0.230     -54.920      13.207\n",
      "neighbourhood[T.Roxbury]                    -2.0686     11.317     -0.183      0.855     -24.260      20.122\n",
      "neighbourhood[T.South Boston]               58.4120     12.482      4.680      0.000      33.938      82.886\n",
      "neighbourhood[T.South Boston Waterfront]   117.6729     17.372      6.774      0.000      83.610     151.736\n",
      "neighbourhood[T.South End]                  46.1587     11.761      3.925      0.000      23.097      69.220\n",
      "neighbourhood[T.West End]                   77.4371     19.673      3.936      0.000      38.863     116.011\n",
      "neighbourhood[T.West Roxbury]               83.9114     21.145      3.968      0.000      42.451     125.372\n",
      "==============================================================================\n",
      "Omnibus:                     2121.616   Durbin-Watson:                   1.724\n",
      "Prob(Omnibus):                  0.000   Jarque-Bera (JB):            38921.505\n",
      "Skew:                           3.255   Prob(JB):                         0.00\n",
      "Kurtosis:                      19.571   Cond. No.                         33.0\n",
      "==============================================================================\n",
      "\n",
      "Notes:\n",
      "[1] Standard Errors assume that the covariance matrix of the errors is correctly specified.\n"
     ]
    }
   ],
   "metadata": {}
  },
  {
   "cell_type": "code",
   "execution_count": 135,
   "source": [
    "#MODEL1 INTERPRETATION:\n",
    "#Listings belonging to neighbourhood Leather District had a significant increase in rental price by 1015 unit of dollar, holding other variable constant"
   ],
   "outputs": [],
   "metadata": {}
  },
  {
   "cell_type": "code",
   "execution_count": 50,
   "source": [
    "# SECOND MODEL - price ~ neighbourhood + minimum_nights\n",
    "result2 = smf.ols('price ~ neighbourhood + minimum_nights', data=listings).fit()"
   ],
   "outputs": [],
   "metadata": {}
  },
  {
   "cell_type": "code",
   "execution_count": 51,
   "source": [
    "print(result2.summary())"
   ],
   "outputs": [
    {
     "output_type": "stream",
     "name": "stdout",
     "text": [
      "                            OLS Regression Results                            \n",
      "==============================================================================\n",
      "Dep. Variable:                  price   R-squared:                       0.092\n",
      "Model:                            OLS   Adj. R-squared:                  0.084\n",
      "Method:                 Least Squares   F-statistic:                     11.83\n",
      "Date:                Sun, 04 Apr 2021   Prob (F-statistic):           1.63e-45\n",
      "Time:                        16:51:59   Log-Likelihood:                -17944.\n",
      "No. Observations:                2947   AIC:                         3.594e+04\n",
      "Df Residuals:                    2921   BIC:                         3.610e+04\n",
      "Df Model:                          25                                         \n",
      "Covariance Type:            nonrobust                                         \n",
      "============================================================================================================\n",
      "                                               coef    std err          t      P>|t|      [0.025      0.975]\n",
      "------------------------------------------------------------------------------------------------------------\n",
      "Intercept                                  110.5146      9.146     12.084      0.000      92.582     128.447\n",
      "neighbourhood[T.Back Bay]                   61.4210     11.790      5.210      0.000      38.304      84.538\n",
      "neighbourhood[T.Bay Village]                 4.4098     18.639      0.237      0.813     -32.138      40.957\n",
      "neighbourhood[T.Beacon Hill]                32.1368     12.853      2.500      0.012       6.936      57.338\n",
      "neighbourhood[T.Brighton]                    0.0290     11.458      0.003      0.998     -22.437      22.495\n",
      "neighbourhood[T.Charlestown]                96.4435     15.183      6.352      0.000      66.672     126.214\n",
      "neighbourhood[T.Chinatown]                  36.3587     18.905      1.923      0.055      -0.709      73.427\n",
      "neighbourhood[T.Dorchester]                 -5.9641     10.390     -0.574      0.566     -26.337      14.409\n",
      "neighbourhood[T.Downtown]                   67.5126     10.783      6.261      0.000      46.370      88.655\n",
      "neighbourhood[T.East Boston]                22.5723     11.924      1.893      0.058      -0.807      45.952\n",
      "neighbourhood[T.Fenway]                     68.7025     13.574      5.061      0.000      42.086      95.319\n",
      "neighbourhood[T.Hyde Park]                 -34.5462     19.685     -1.755      0.079     -73.144       4.052\n",
      "neighbourhood[T.Jamaica Plain]              29.5083     11.170      2.642      0.008       7.605      51.411\n",
      "neighbourhood[T.Leather District]           54.3698     62.510      0.870      0.384     -68.198     176.938\n",
      "neighbourhood[T.Longwood Medical Area]      39.4402     48.719      0.810      0.418     -56.087     134.967\n",
      "neighbourhood[T.Mattapan]                  -37.7384     20.379     -1.852      0.064     -77.697       2.220\n",
      "neighbourhood[T.Mission Hill]               48.5990     18.064      2.690      0.007      13.179      84.019\n",
      "neighbourhood[T.North End]                  21.8562     16.009      1.365      0.172      -9.534      53.246\n",
      "neighbourhood[T.Roslindale]                -22.2325     17.409     -1.277      0.202     -56.369      11.904\n",
      "neighbourhood[T.Roxbury]                    -2.6393     11.327     -0.233      0.816     -24.848      19.570\n",
      "neighbourhood[T.South Boston]               57.3541     12.512      4.584      0.000      32.820      81.888\n",
      "neighbourhood[T.South Boston Waterfront]   117.6221     17.371      6.771      0.000      83.561     151.683\n",
      "neighbourhood[T.South End]                  44.6799     11.826      3.778      0.000      21.492      67.868\n",
      "neighbourhood[T.West End]                   76.7420     19.680      3.899      0.000      38.154     115.330\n",
      "neighbourhood[T.West Roxbury]               82.9704     21.158      3.921      0.000      41.484     124.457\n",
      "minimum_nights                              -0.0537      0.045     -1.191      0.234      -0.142       0.035\n",
      "==============================================================================\n",
      "Omnibus:                     2122.052   Durbin-Watson:                   1.721\n",
      "Prob(Omnibus):                  0.000   Jarque-Bera (JB):            39003.051\n",
      "Skew:                           3.255   Prob(JB):                         0.00\n",
      "Kurtosis:                      19.591   Cond. No.                     1.97e+03\n",
      "==============================================================================\n",
      "\n",
      "Notes:\n",
      "[1] Standard Errors assume that the covariance matrix of the errors is correctly specified.\n",
      "[2] The condition number is large, 1.97e+03. This might indicate that there are\n",
      "strong multicollinearity or other numerical problems.\n"
     ]
    }
   ],
   "metadata": {}
  },
  {
   "cell_type": "code",
   "execution_count": 138,
   "source": [
    "#MODEL2 INTERPRETATION:\n",
    "#An increase in minimum nights by 1 unit will decrease the price of rental by 0.07 unit of dollar.\n",
    "#Based on p-value, this effect is not significant, holding everything else constant."
   ],
   "outputs": [],
   "metadata": {}
  },
  {
   "cell_type": "code",
   "execution_count": 52,
   "source": [
    "# THIRD MODEL - price ~ neighbourhood + minimum_nights + availability_365\n",
    "result3 = smf.ols('price ~ neighbourhood + minimum_nights + availability_365', data=listings).fit()"
   ],
   "outputs": [],
   "metadata": {}
  },
  {
   "cell_type": "code",
   "execution_count": 53,
   "source": [
    "print(result3.summary())"
   ],
   "outputs": [
    {
     "output_type": "stream",
     "name": "stdout",
     "text": [
      "                            OLS Regression Results                            \n",
      "==============================================================================\n",
      "Dep. Variable:                  price   R-squared:                       0.092\n",
      "Model:                            OLS   Adj. R-squared:                  0.084\n",
      "Method:                 Least Squares   F-statistic:                     11.42\n",
      "Date:                Sun, 04 Apr 2021   Prob (F-statistic):           3.24e-45\n",
      "Time:                        16:52:04   Log-Likelihood:                -17943.\n",
      "No. Observations:                2947   AIC:                         3.594e+04\n",
      "Df Residuals:                    2920   BIC:                         3.610e+04\n",
      "Df Model:                          26                                         \n",
      "Covariance Type:            nonrobust                                         \n",
      "============================================================================================================\n",
      "                                               coef    std err          t      P>|t|      [0.025      0.975]\n",
      "------------------------------------------------------------------------------------------------------------\n",
      "Intercept                                  108.3934      9.344     11.600      0.000      90.072     126.715\n",
      "neighbourhood[T.Back Bay]                   61.1572     11.792      5.186      0.000      38.036      84.278\n",
      "neighbourhood[T.Bay Village]                 5.0005     18.646      0.268      0.789     -31.561      41.562\n",
      "neighbourhood[T.Beacon Hill]                31.7227     12.858      2.467      0.014       6.512      56.934\n",
      "neighbourhood[T.Brighton]                   -1.4797     11.538     -0.128      0.898     -24.103      21.144\n",
      "neighbourhood[T.Charlestown]                95.7484     15.196      6.301      0.000      65.953     125.544\n",
      "neighbourhood[T.Chinatown]                  33.9684     19.027      1.785      0.074      -3.339      71.276\n",
      "neighbourhood[T.Dorchester]                 -7.3082     10.461     -0.699      0.485     -27.819      13.203\n",
      "neighbourhood[T.Downtown]                   66.1206     10.856      6.091      0.000      44.835      87.406\n",
      "neighbourhood[T.East Boston]                21.7675     11.945      1.822      0.069      -1.654      45.189\n",
      "neighbourhood[T.Fenway]                     68.5830     13.574      5.052      0.000      41.967      95.199\n",
      "neighbourhood[T.Hyde Park]                 -35.6486     19.709     -1.809      0.071     -74.294       2.997\n",
      "neighbourhood[T.Jamaica Plain]              28.8865     11.184      2.583      0.010       6.957      50.816\n",
      "neighbourhood[T.Leather District]           52.7279     62.525      0.843      0.399     -69.870     175.325\n",
      "neighbourhood[T.Longwood Medical Area]      41.5719     48.755      0.853      0.394     -54.026     137.170\n",
      "neighbourhood[T.Mattapan]                  -39.2027     20.421     -1.920      0.055     -79.243       0.838\n",
      "neighbourhood[T.Mission Hill]               48.4952     18.064      2.685      0.007      13.076      83.914\n",
      "neighbourhood[T.North End]                  21.0282     16.026      1.312      0.190     -10.395      52.451\n",
      "neighbourhood[T.Roslindale]                -23.7052     17.460     -1.358      0.175     -57.940      10.529\n",
      "neighbourhood[T.Roxbury]                    -3.3858     11.346     -0.298      0.765     -25.633      18.862\n",
      "neighbourhood[T.South Boston]               57.0549     12.515      4.559      0.000      32.516      81.594\n",
      "neighbourhood[T.South Boston Waterfront]   116.5098     17.400      6.696      0.000      82.393     150.626\n",
      "neighbourhood[T.South End]                  44.3005     11.830      3.745      0.000      21.104      67.497\n",
      "neighbourhood[T.West End]                   75.4659     19.713      3.828      0.000      36.813     114.119\n",
      "neighbourhood[T.West Roxbury]               81.9323     21.178      3.869      0.000      40.407     123.458\n",
      "minimum_nights                              -0.0539      0.045     -1.195      0.232      -0.142       0.035\n",
      "availability_365                             0.0160      0.014      1.107      0.269      -0.012       0.044\n",
      "==============================================================================\n",
      "Omnibus:                     2118.333   Durbin-Watson:                   1.721\n",
      "Prob(Omnibus):                  0.000   Jarque-Bera (JB):            38815.627\n",
      "Skew:                           3.248   Prob(JB):                         0.00\n",
      "Kurtosis:                      19.550   Cond. No.                     7.50e+03\n",
      "==============================================================================\n",
      "\n",
      "Notes:\n",
      "[1] Standard Errors assume that the covariance matrix of the errors is correctly specified.\n",
      "[2] The condition number is large, 7.5e+03. This might indicate that there are\n",
      "strong multicollinearity or other numerical problems.\n"
     ]
    }
   ],
   "metadata": {}
  },
  {
   "cell_type": "code",
   "execution_count": 141,
   "source": [
    "#MODEL3 INTERPRETATION:\n",
    "#An increase in number of listing days by 1 will decrease the price of rental by 0.046 unit of dollar.\n",
    "#Based on p-value, this effect is not very significant, holding everything else constant."
   ],
   "outputs": [],
   "metadata": {}
  },
  {
   "cell_type": "code",
   "execution_count": 54,
   "source": [
    "# FOURTH MODEL - price ~ neighbourhood + minimum_nights + availability_365 + room_type\n",
    "result4 = smf.ols('price ~ neighbourhood + minimum_nights + availability_365 + room_type', data=listings).fit()"
   ],
   "outputs": [],
   "metadata": {}
  },
  {
   "cell_type": "code",
   "execution_count": 55,
   "source": [
    "print(result4.summary())"
   ],
   "outputs": [
    {
     "output_type": "stream",
     "name": "stdout",
     "text": [
      "                            OLS Regression Results                            \n",
      "==============================================================================\n",
      "Dep. Variable:                  price   R-squared:                       0.209\n",
      "Model:                            OLS   Adj. R-squared:                  0.201\n",
      "Method:                 Least Squares   F-statistic:                     26.60\n",
      "Date:                Sun, 04 Apr 2021   Prob (F-statistic):          4.05e-126\n",
      "Time:                        16:52:09   Log-Likelihood:                -17740.\n",
      "No. Observations:                2947   AIC:                         3.554e+04\n",
      "Df Residuals:                    2917   BIC:                         3.572e+04\n",
      "Df Model:                          29                                         \n",
      "Covariance Type:            nonrobust                                         \n",
      "============================================================================================================\n",
      "                                               coef    std err          t      P>|t|      [0.025      0.975]\n",
      "------------------------------------------------------------------------------------------------------------\n",
      "Intercept                                  156.7717      9.045     17.332      0.000     139.036     174.507\n",
      "neighbourhood[T.Back Bay]                   13.7734     11.254      1.224      0.221      -8.292      35.839\n",
      "neighbourhood[T.Bay Village]                 2.2416     17.426      0.129      0.898     -31.927      36.410\n",
      "neighbourhood[T.Beacon Hill]               -10.3645     12.184     -0.851      0.395     -34.255      13.526\n",
      "neighbourhood[T.Brighton]                  -15.1884     10.807     -1.405      0.160     -36.379       6.002\n",
      "neighbourhood[T.Charlestown]                64.9563     14.273      4.551      0.000      36.971      92.942\n",
      "neighbourhood[T.Chinatown]                 -13.0883     17.919     -0.730      0.465     -48.223      22.046\n",
      "neighbourhood[T.Dorchester]                  1.0098      9.779      0.103      0.918     -18.165      20.185\n",
      "neighbourhood[T.Downtown]                   23.4570     10.347      2.267      0.023       3.170      43.744\n",
      "neighbourhood[T.East Boston]                -2.2912     11.219     -0.204      0.838     -24.290      19.708\n",
      "neighbourhood[T.Fenway]                     41.8022     12.745      3.280      0.001      16.812      66.792\n",
      "neighbourhood[T.Hyde Park]                 -33.7711     18.408     -1.835      0.067     -69.866       2.324\n",
      "neighbourhood[T.Jamaica Plain]              16.1371     10.463      1.542      0.123      -4.379      36.654\n",
      "neighbourhood[T.Leather District]            2.4714     58.446      0.042      0.966    -112.128     117.071\n",
      "neighbourhood[T.Longwood Medical Area]      43.6179     45.535      0.958      0.338     -45.665     132.901\n",
      "neighbourhood[T.Mattapan]                  -19.1786     19.097     -1.004      0.315     -56.623      18.266\n",
      "neighbourhood[T.Mission Hill]               37.6507     16.886      2.230      0.026       4.542      70.760\n",
      "neighbourhood[T.North End]                 -13.8159     15.064     -0.917      0.359     -43.354      15.722\n",
      "neighbourhood[T.Roslindale]                -21.8812     16.307     -1.342      0.180     -53.856      10.094\n",
      "neighbourhood[T.Roxbury]                     1.3533     10.599      0.128      0.898     -19.429      22.136\n",
      "neighbourhood[T.South Boston]               32.5412     11.751      2.769      0.006       9.500      55.582\n",
      "neighbourhood[T.South Boston Waterfront]    69.4495     16.411      4.232      0.000      37.271     101.628\n",
      "neighbourhood[T.South End]                   8.3509     11.188      0.746      0.455     -13.586      30.288\n",
      "neighbourhood[T.West End]                   35.9490     18.512      1.942      0.052      -0.349      72.247\n",
      "neighbourhood[T.West Roxbury]               69.5046     19.809      3.509      0.000      30.663     108.346\n",
      "room_type[T.Hotel room]                     32.3813     21.224      1.526      0.127      -9.234      73.996\n",
      "room_type[T.Private room]                  -89.6005      4.350    -20.600      0.000     -98.129     -81.072\n",
      "room_type[T.Shared room]                   -40.7206     33.660     -1.210      0.226    -106.721      25.280\n",
      "minimum_nights                               0.0067      0.042      0.159      0.874      -0.076       0.090\n",
      "availability_365                             0.0181      0.014      1.342      0.180      -0.008       0.045\n",
      "==============================================================================\n",
      "Omnibus:                     2365.515   Durbin-Watson:                   1.733\n",
      "Prob(Omnibus):                  0.000   Jarque-Bera (JB):            62510.802\n",
      "Skew:                           3.674   Prob(JB):                         0.00\n",
      "Kurtosis:                      24.333   Cond. No.                     7.51e+03\n",
      "==============================================================================\n",
      "\n",
      "Notes:\n",
      "[1] Standard Errors assume that the covariance matrix of the errors is correctly specified.\n",
      "[2] The condition number is large, 7.51e+03. This might indicate that there are\n",
      "strong multicollinearity or other numerical problems.\n"
     ]
    }
   ],
   "metadata": {}
  },
  {
   "cell_type": "code",
   "execution_count": 144,
   "source": [
    "#MODEL4 INTERPRETATION: There is no significant effect to claim that renting a hotel room type or a shared room type will increase or decrease the rental price.\n",
    "#However, renting private room type significantly decrease rental price by 78.88 unit of dollar."
   ],
   "outputs": [],
   "metadata": {}
  },
  {
   "cell_type": "code",
   "execution_count": 56,
   "source": [
    "#To only show Parameters, Intercepts, Confidence Intervals, and R-sqared\n",
    "print('The parameters are: \\n', result4.params, '\\n')\n",
    "print('The confidence intervals are:\\n', result4.conf_int(), '\\n')\n",
    "print('The r-sqared is:', result4.rsquared)"
   ],
   "outputs": [
    {
     "output_type": "stream",
     "name": "stdout",
     "text": [
      "The parameters are: \n",
      " Intercept                                   156.771723\n",
      "neighbourhood[T.Back Bay]                    13.773426\n",
      "neighbourhood[T.Bay Village]                  2.241570\n",
      "neighbourhood[T.Beacon Hill]                -10.364469\n",
      "neighbourhood[T.Brighton]                   -15.188390\n",
      "neighbourhood[T.Charlestown]                 64.956253\n",
      "neighbourhood[T.Chinatown]                  -13.088347\n",
      "neighbourhood[T.Dorchester]                   1.009783\n",
      "neighbourhood[T.Downtown]                    23.456960\n",
      "neighbourhood[T.East Boston]                 -2.291210\n",
      "neighbourhood[T.Fenway]                      41.802153\n",
      "neighbourhood[T.Hyde Park]                  -33.771080\n",
      "neighbourhood[T.Jamaica Plain]               16.137104\n",
      "neighbourhood[T.Leather District]             2.471416\n",
      "neighbourhood[T.Longwood Medical Area]       43.617877\n",
      "neighbourhood[T.Mattapan]                   -19.178572\n",
      "neighbourhood[T.Mission Hill]                37.650730\n",
      "neighbourhood[T.North End]                  -13.815850\n",
      "neighbourhood[T.Roslindale]                 -21.881233\n",
      "neighbourhood[T.Roxbury]                      1.353290\n",
      "neighbourhood[T.South Boston]                32.541172\n",
      "neighbourhood[T.South Boston Waterfront]     69.449512\n",
      "neighbourhood[T.South End]                    8.350885\n",
      "neighbourhood[T.West End]                    35.948969\n",
      "neighbourhood[T.West Roxbury]                69.504620\n",
      "room_type[T.Hotel room]                      32.381321\n",
      "room_type[T.Private room]                   -89.600522\n",
      "room_type[T.Shared room]                    -40.720642\n",
      "minimum_nights                                0.006740\n",
      "availability_365                              0.018148\n",
      "dtype: float64 \n",
      "\n",
      "The confidence intervals are:\n",
      "                                                    0           1\n",
      "Intercept                                 139.036009  174.507437\n",
      "neighbourhood[T.Back Bay]                  -8.292419   35.839271\n",
      "neighbourhood[T.Bay Village]              -31.927313   36.410453\n",
      "neighbourhood[T.Beacon Hill]              -34.254507   13.525569\n",
      "neighbourhood[T.Brighton]                 -36.378508    6.001729\n",
      "neighbourhood[T.Charlestown]               36.970994   92.941512\n",
      "neighbourhood[T.Chinatown]                -48.222796   22.046102\n",
      "neighbourhood[T.Dorchester]               -18.165168   20.184735\n",
      "neighbourhood[T.Downtown]                   3.169503   43.744416\n",
      "neighbourhood[T.East Boston]              -24.289958   19.707537\n",
      "neighbourhood[T.Fenway]                    16.812153   66.792154\n",
      "neighbourhood[T.Hyde Park]                -69.865840    2.323680\n",
      "neighbourhood[T.Jamaica Plain]             -4.379297   36.653505\n",
      "neighbourhood[T.Leather District]        -112.127768  117.070599\n",
      "neighbourhood[T.Longwood Medical Area]    -45.665153  132.900908\n",
      "neighbourhood[T.Mattapan]                 -56.622849   18.265704\n",
      "neighbourhood[T.Mission Hill]               4.541799   70.759662\n",
      "neighbourhood[T.North End]                -43.353604   15.721904\n",
      "neighbourhood[T.Roslindale]               -53.856167   10.093702\n",
      "neighbourhood[T.Roxbury]                  -19.429454   22.136034\n",
      "neighbourhood[T.South Boston]               9.500251   55.582093\n",
      "neighbourhood[T.South Boston Waterfront]   37.270559  101.628465\n",
      "neighbourhood[T.South End]                -13.586494   30.288264\n",
      "neighbourhood[T.West End]                  -0.348943   72.246882\n",
      "neighbourhood[T.West Roxbury]              30.663331  108.345909\n",
      "room_type[T.Hotel room]                    -9.233605   73.996247\n",
      "room_type[T.Private room]                 -98.129165  -81.071880\n",
      "room_type[T.Shared room]                 -106.720817   25.279532\n",
      "minimum_nights                             -0.076348    0.089829\n",
      "availability_365                           -0.008359    0.044654 \n",
      "\n",
      "The r-sqared is: 0.2091274889510254\n"
     ]
    }
   ],
   "metadata": {}
  },
  {
   "cell_type": "code",
   "execution_count": 146,
   "source": [
    "#CONCLUSION\n",
    "#After controlling for minimum_nights and availability_365, the model still shows significant relation between price and Leather District neighbourhood.\n",
    "#Therefore, we can say that Listings belonging to neighbourhood Leather District had a significant increase in rental price by 1015 unit of dollar, holding other variable constant\n",
    "#Additionally, the coefficient between price and minimum_nights shows that increase in number of minimum night will decrease the price of the rental.\n",
    "#Another coefficient also shows that the higher the number of listing days will decrease the price of the rental.\n",
    "#This is not a perfect model because many coefficients do not have a significant level. The data also has issues, such as missing values, and outliers."
   ],
   "outputs": [],
   "metadata": {}
  },
  {
   "cell_type": "code",
   "execution_count": 147,
   "source": [
    "#Time to TRANSFORMING DATA"
   ],
   "outputs": [],
   "metadata": {}
  },
  {
   "cell_type": "code",
   "execution_count": 57,
   "source": [
    "#To create a scatter plot of price and neighbourhood\n",
    "fig, ax = plt.subplots(figsize=(10,6))\n",
    "\n",
    "ax.scatter(listings['neighbourhood'], listings['price'], marker='o', alpha = 0.5 )\n",
    "\n",
    "ax.set_xlabel('Neighbourhood name', fontsize=16)\n",
    "ax.set_ylabel('Rental price', fontsize=16)\n",
    "\n",
    "ax.spines['right'].set_visible(False)\n",
    "ax.spines['top'].set_visible(False)\n",
    "\n",
    "ax.tick_params(axis='x', rotation=90)\n",
    "ax.tick_params(axis='y', rotation=90)"
   ],
   "outputs": [
    {
     "output_type": "display_data",
     "data": {
      "image/png": "[encoded data removed]",
      "text/plain": [
       "<Figure size 720x432 with 1 Axes>"
      ]
     },
     "metadata": {
      "needs_background": "light"
     }
    }
   ],
   "metadata": {}
  },
  {
   "cell_type": "code",
   "execution_count": 58,
   "source": [
    "#COMBINE ALL THREE MODELS TOGETHER\n",
    "from statsmodels.iolib.summary2 import summary_col #create regression table for your report\n",
    "\n",
    "table = summary_col(\n",
    "    [result1, result2, result3, result4], #results of the fitted models\n",
    "    model_names = ['Model 1', 'Model 2', 'Model 3', 'Model 4'], #models fitted above\n",
    "    stars=True, #level of significance\n",
    "    regressor_order = ['Intercept', 'price', 'neighbourhood', 'minimum_nights', 'availability_365', 'room_type'], #order of explanatory vars in the table\n",
    "    float_format='%0.2f', \n",
    "    drop_omitted = False #\n",
    "    )\n",
    "\n",
    "table.add_title('Does neighbourhood affect rental price?')\n",
    "#table.add_text('any other table info...') #add other table info to be printed with the table\n",
    "\n",
    "print(table.as_text())\n",
    "\n",
    "# The 'w' is for 'write'.\n",
    "fout = open('table1.txt', 'w')\n",
    "fout.write(table.as_text()) #can export as text, latex or html\n",
    "fout.close()"
   ],
   "outputs": [
    {
     "output_type": "stream",
     "name": "stdout",
     "text": [
      "                    Does neighbourhood affect rental price?\n",
      "================================================================================\n",
      "                                          Model 1   Model 2   Model 3   Model 4 \n",
      "--------------------------------------------------------------------------------\n",
      "Intercept                                107.35*** 110.51*** 108.39*** 156.77***\n",
      "                                         (8.75)    (9.15)    (9.34)    (9.05)   \n",
      "minimum_nights                                     -0.05     -0.05     0.01     \n",
      "                                                   (0.05)    (0.05)    (0.04)   \n",
      "availability_365                                             0.02      0.02     \n",
      "                                                             (0.01)    (0.01)   \n",
      "neighbourhood[T.Roslindale]              -20.86    -22.23    -23.71    -21.88   \n",
      "                                         (17.37)   (17.41)   (17.46)   (16.31)  \n",
      "neighbourhood[T.South End]               46.16***  44.68***  44.30***  8.35     \n",
      "                                         (11.76)   (11.83)   (11.83)   (11.19)  \n",
      "neighbourhood[T.Chinatown]               37.36**   36.36*    33.97*    -13.09   \n",
      "                                         (18.89)   (18.90)   (19.03)   (17.92)  \n",
      "neighbourhood[T.Bay Village]             6.72      4.41      5.00      2.24     \n",
      "                                         (18.54)   (18.64)   (18.65)   (17.43)  \n",
      "neighbourhood[T.Leather District]        56.32     54.37     52.73     2.47     \n",
      "                                         (62.49)   (62.51)   (62.52)   (58.45)  \n",
      "neighbourhood[T.North End]               22.48     21.86     21.03     -13.82   \n",
      "                                         (16.00)   (16.01)   (16.03)   (15.06)  \n",
      "room_type[T.Hotel room]                                                32.38    \n",
      "                                                                       (21.22)  \n",
      "neighbourhood[T.Dorchester]              -4.92     -5.96     -7.31     1.01     \n",
      "                                         (10.35)   (10.39)   (10.46)   (9.78)   \n",
      "neighbourhood[T.Longwood Medical Area]   39.65     39.44     41.57     43.62    \n",
      "                                         (48.72)   (48.72)   (48.76)   (45.53)  \n",
      "neighbourhood[T.Jamaica Plain]           30.40***  29.51***  28.89***  16.14    \n",
      "                                         (11.15)   (11.17)   (11.18)   (10.46)  \n",
      "neighbourhood[T.South Boston]            58.41***  57.35***  57.05***  32.54*** \n",
      "                                         (12.48)   (12.51)   (12.51)   (11.75)  \n",
      "room_type[T.Private room]                                              -89.60***\n",
      "                                                                       (4.35)   \n",
      "neighbourhood[T.Hyde Park]               -33.67*   -34.55*   -35.65*   -33.77*  \n",
      "                                         (19.67)   (19.69)   (19.71)   (18.41)  \n",
      "neighbourhood[T.Fenway]                  69.42***  68.70***  68.58***  41.80*** \n",
      "                                         (13.56)   (13.57)   (13.57)   (12.74)  \n",
      "neighbourhood[T.Roxbury]                 -2.07     -2.64     -3.39     1.35     \n",
      "                                         (11.32)   (11.33)   (11.35)   (10.60)  \n",
      "neighbourhood[T.East Boston]             23.28*    22.57*    21.77*    -2.29    \n",
      "                                         (11.91)   (11.92)   (11.95)   (11.22)  \n",
      "neighbourhood[T.West End]                77.44***  76.74***  75.47***  35.95*   \n",
      "                                         (19.67)   (19.68)   (19.71)   (18.51)  \n",
      "neighbourhood[T.South Boston Waterfront] 117.67*** 117.62*** 116.51*** 69.45*** \n",
      "                                         (17.37)   (17.37)   (17.40)   (16.41)  \n",
      "neighbourhood[T.Mission Hill]            48.26***  48.60***  48.50***  37.65**  \n",
      "                                         (18.06)   (18.06)   (18.06)   (16.89)  \n",
      "neighbourhood[T.West Roxbury]            83.91***  82.97***  81.93***  69.50*** \n",
      "                                         (21.14)   (21.16)   (21.18)   (19.81)  \n",
      "neighbourhood[T.Downtown]                68.87***  67.51***  66.12***  23.46**  \n",
      "                                         (10.72)   (10.78)   (10.86)   (10.35)  \n",
      "neighbourhood[T.Charlestown]             97.53***  96.44***  95.75***  64.96*** \n",
      "                                         (15.16)   (15.18)   (15.20)   (14.27)  \n",
      "neighbourhood[T.Brighton]                0.22      0.03      -1.48     -15.19   \n",
      "                                         (11.46)   (11.46)   (11.54)   (10.81)  \n",
      "room_type[T.Shared room]                                               -40.72   \n",
      "                                                                       (33.66)  \n",
      "neighbourhood[T.Mattapan]                -36.58*   -37.74*   -39.20*   -19.18   \n",
      "                                         (20.36)   (20.38)   (20.42)   (19.10)  \n",
      "neighbourhood[T.Beacon Hill]             33.30***  32.14**   31.72**   -10.36   \n",
      "                                         (12.82)   (12.85)   (12.86)   (12.18)  \n",
      "neighbourhood[T.Back Bay]                62.41***  61.42***  61.16***  13.77    \n",
      "                                         (11.76)   (11.79)   (11.79)   (11.25)  \n",
      "R-squared                                0.09      0.09      0.09      0.21     \n",
      "R-squared Adj.                           0.08      0.08      0.08      0.20     \n",
      "================================================================================\n",
      "Standard errors in parentheses.\n",
      "* p<.1, ** p<.05, ***p<.01\n"
     ]
    }
   ],
   "metadata": {}
  },
  {
   "cell_type": "code",
   "execution_count": 59,
   "source": [
    "resid1=result1.resid.plot()"
   ],
   "outputs": [
    {
     "output_type": "display_data",
     "data": {
      "image/png": "[encoded data removed]",
      "text/plain": [
       "<Figure size 432x288 with 1 Axes>"
      ]
     },
     "metadata": {
      "needs_background": "light"
     }
    }
   ],
   "metadata": {}
  },
  {
   "cell_type": "code",
   "execution_count": 60,
   "source": [
    "resid2=result2.resid.plot()"
   ],
   "outputs": [
    {
     "output_type": "display_data",
     "data": {
      "image/png": "[encoded data removed]",
      "text/plain": [
       "<Figure size 432x288 with 1 Axes>"
      ]
     },
     "metadata": {
      "needs_background": "light"
     }
    }
   ],
   "metadata": {}
  },
  {
   "cell_type": "code",
   "execution_count": 62,
   "source": [
    "resid3=result3.resid.plot()"
   ],
   "outputs": [
    {
     "output_type": "display_data",
     "data": {
      "image/png": "[encoded data removed]",
      "text/plain": [
       "<Figure size 432x288 with 1 Axes>"
      ]
     },
     "metadata": {
      "needs_background": "light"
     }
    }
   ],
   "metadata": {}
  },
  {
   "cell_type": "code",
   "execution_count": 61,
   "source": [
    "resid4=result4.resid.plot()"
   ],
   "outputs": [
    {
     "output_type": "display_data",
     "data": {
      "image/png": "[encoded data removed]",
      "text/plain": [
       "<Figure size 432x288 with 1 Axes>"
      ]
     },
     "metadata": {
      "needs_background": "light"
     }
    }
   ],
   "metadata": {}
  },
  {
   "cell_type": "code",
   "execution_count": 63,
   "source": [
    "#Show descriptive statistic in form of a table\n",
    "listings.describe()"
   ],
   "outputs": [
    {
     "output_type": "execute_result",
     "data": {
      "text/html": [
       "<div>\n",
       "<style scoped>\n",
       "    .dataframe tbody tr th:only-of-type {\n",
       "        vertical-align: middle;\n",
       "    }\n",
       "\n",
       "    .dataframe tbody tr th {\n",
       "        vertical-align: top;\n",
       "    }\n",
       "\n",
       "    .dataframe thead th {\n",
       "        text-align: right;\n",
       "    }\n",
       "</style>\n",
       "<table border=\"1\" class=\"dataframe\">\n",
       "  <thead>\n",
       "    <tr style=\"text-align: right;\">\n",
       "      <th></th>\n",
       "      <th>id</th>\n",
       "      <th>host_id</th>\n",
       "      <th>latitude</th>\n",
       "      <th>longitude</th>\n",
       "      <th>price</th>\n",
       "      <th>minimum_nights</th>\n",
       "      <th>number_of_reviews</th>\n",
       "      <th>reviews_per_month</th>\n",
       "      <th>calculated_host_listings_count</th>\n",
       "      <th>availability_365</th>\n",
       "      <th>num_missing</th>\n",
       "    </tr>\n",
       "  </thead>\n",
       "  <tbody>\n",
       "    <tr>\n",
       "      <th>count</th>\n",
       "      <td>2.947000e+03</td>\n",
       "      <td>2.947000e+03</td>\n",
       "      <td>2947.000000</td>\n",
       "      <td>2947.000000</td>\n",
       "      <td>2947.000000</td>\n",
       "      <td>2947.000000</td>\n",
       "      <td>2947.000000</td>\n",
       "      <td>2947.000000</td>\n",
       "      <td>2947.000000</td>\n",
       "      <td>2947.000000</td>\n",
       "      <td>2947.000000</td>\n",
       "    </tr>\n",
       "    <tr>\n",
       "      <th>mean</th>\n",
       "      <td>2.865768e+07</td>\n",
       "      <td>1.087794e+08</td>\n",
       "      <td>42.337696</td>\n",
       "      <td>-71.082327</td>\n",
       "      <td>138.321683</td>\n",
       "      <td>42.567696</td>\n",
       "      <td>37.184255</td>\n",
       "      <td>1.207540</td>\n",
       "      <td>20.192399</td>\n",
       "      <td>183.953173</td>\n",
       "      <td>1.597218</td>\n",
       "    </tr>\n",
       "    <tr>\n",
       "      <th>std</th>\n",
       "      <td>1.482702e+07</td>\n",
       "      <td>1.162177e+08</td>\n",
       "      <td>0.026668</td>\n",
       "      <td>0.032919</td>\n",
       "      <td>111.983401</td>\n",
       "      <td>44.599954</td>\n",
       "      <td>69.933799</td>\n",
       "      <td>1.597732</td>\n",
       "      <td>33.752272</td>\n",
       "      <td>140.910119</td>\n",
       "      <td>0.915451</td>\n",
       "    </tr>\n",
       "    <tr>\n",
       "      <th>min</th>\n",
       "      <td>3.781000e+03</td>\n",
       "      <td>4.804000e+03</td>\n",
       "      <td>42.235200</td>\n",
       "      <td>-71.173440</td>\n",
       "      <td>19.000000</td>\n",
       "      <td>1.000000</td>\n",
       "      <td>0.000000</td>\n",
       "      <td>0.010000</td>\n",
       "      <td>1.000000</td>\n",
       "      <td>0.000000</td>\n",
       "      <td>1.000000</td>\n",
       "    </tr>\n",
       "    <tr>\n",
       "      <th>25%</th>\n",
       "      <td>1.625765e+07</td>\n",
       "      <td>1.605219e+07</td>\n",
       "      <td>42.320940</td>\n",
       "      <td>-71.102720</td>\n",
       "      <td>69.500000</td>\n",
       "      <td>2.000000</td>\n",
       "      <td>0.000000</td>\n",
       "      <td>0.410000</td>\n",
       "      <td>1.000000</td>\n",
       "      <td>42.500000</td>\n",
       "      <td>1.000000</td>\n",
       "    </tr>\n",
       "    <tr>\n",
       "      <th>50%</th>\n",
       "      <td>3.029842e+07</td>\n",
       "      <td>4.849451e+07</td>\n",
       "      <td>42.344790</td>\n",
       "      <td>-71.072210</td>\n",
       "      <td>110.000000</td>\n",
       "      <td>29.000000</td>\n",
       "      <td>6.000000</td>\n",
       "      <td>0.780000</td>\n",
       "      <td>5.000000</td>\n",
       "      <td>179.000000</td>\n",
       "      <td>1.000000</td>\n",
       "    </tr>\n",
       "    <tr>\n",
       "      <th>75%</th>\n",
       "      <td>4.246326e+07</td>\n",
       "      <td>1.966313e+08</td>\n",
       "      <td>42.355200</td>\n",
       "      <td>-71.060540</td>\n",
       "      <td>173.000000</td>\n",
       "      <td>91.000000</td>\n",
       "      <td>40.000000</td>\n",
       "      <td>1.370000</td>\n",
       "      <td>21.000000</td>\n",
       "      <td>334.000000</td>\n",
       "      <td>3.000000</td>\n",
       "    </tr>\n",
       "    <tr>\n",
       "      <th>max</th>\n",
       "      <td>4.823128e+07</td>\n",
       "      <td>3.881499e+08</td>\n",
       "      <td>42.393720</td>\n",
       "      <td>-70.997010</td>\n",
       "      <td>1000.000000</td>\n",
       "      <td>1000.000000</td>\n",
       "      <td>592.000000</td>\n",
       "      <td>26.850000</td>\n",
       "      <td>134.000000</td>\n",
       "      <td>365.000000</td>\n",
       "      <td>3.000000</td>\n",
       "    </tr>\n",
       "  </tbody>\n",
       "</table>\n",
       "</div>"
      ],
      "text/plain": [
       "                 id       host_id     latitude    longitude        price  \\\n",
       "count  2.947000e+03  2.947000e+03  2947.000000  2947.000000  2947.000000   \n",
       "mean   2.865768e+07  1.087794e+08    42.337696   -71.082327   138.321683   \n",
       "std    1.482702e+07  1.162177e+08     0.026668     0.032919   111.983401   \n",
       "min    3.781000e+03  4.804000e+03    42.235200   -71.173440    19.000000   \n",
       "25%    1.625765e+07  1.605219e+07    42.320940   -71.102720    69.500000   \n",
       "50%    3.029842e+07  4.849451e+07    42.344790   -71.072210   110.000000   \n",
       "75%    4.246326e+07  1.966313e+08    42.355200   -71.060540   173.000000   \n",
       "max    4.823128e+07  3.881499e+08    42.393720   -70.997010  1000.000000   \n",
       "\n",
       "       minimum_nights  number_of_reviews  reviews_per_month  \\\n",
       "count     2947.000000        2947.000000        2947.000000   \n",
       "mean        42.567696          37.184255           1.207540   \n",
       "std         44.599954          69.933799           1.597732   \n",
       "min          1.000000           0.000000           0.010000   \n",
       "25%          2.000000           0.000000           0.410000   \n",
       "50%         29.000000           6.000000           0.780000   \n",
       "75%         91.000000          40.000000           1.370000   \n",
       "max       1000.000000         592.000000          26.850000   \n",
       "\n",
       "       calculated_host_listings_count  availability_365  num_missing  \n",
       "count                     2947.000000       2947.000000  2947.000000  \n",
       "mean                        20.192399        183.953173     1.597218  \n",
       "std                         33.752272        140.910119     0.915451  \n",
       "min                          1.000000          0.000000     1.000000  \n",
       "25%                          1.000000         42.500000     1.000000  \n",
       "50%                          5.000000        179.000000     1.000000  \n",
       "75%                         21.000000        334.000000     3.000000  \n",
       "max                        134.000000        365.000000     3.000000  "
      ]
     },
     "metadata": {},
     "execution_count": 63
    }
   ],
   "metadata": {}
  },
  {
   "cell_type": "code",
   "execution_count": null,
   "source": [],
   "outputs": [],
   "metadata": {}
  }
 ],
 "metadata": {
  "kernelspec": {
   "display_name": "Python 3",
   "language": "python",
   "name": "python3"
  },
  "language_info": {
   "codemirror_mode": {
    "name": "ipython",
    "version": 3
   },
   "file_extension": ".py",
   "mimetype": "text/x-python",
   "name": "python",
   "nbconvert_exporter": "python",
   "pygments_lexer": "ipython3",
   "version": "3.8.5"
  }
 },
 "nbformat": 4,
 "nbformat_minor": 4
}